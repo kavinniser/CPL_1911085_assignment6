{
 "cells": [
  {
   "cell_type": "code",
   "execution_count": 68,
   "id": "a312b26e",
   "metadata": {},
   "outputs": [],
   "source": [
    "%run MyLibrary.ipynb "
   ]
  },
  {
   "cell_type": "code",
   "execution_count": 69,
   "id": "ffd284a5",
   "metadata": {},
   "outputs": [],
   "source": [
    "#Q1 \n",
    "#Numerically integrate the following using Midpoint,\n",
    "#Trapezoidal and Simpson techniques for N = 8, 16 and 24 and \n",
    "#compare the result (in tabular format) with the actual analytical result."
   ]
  },
  {
   "cell_type": "code",
   "execution_count": 70,
   "id": "3b191a75",
   "metadata": {},
   "outputs": [],
   "source": [
    "\n",
    "# Function to calculate the number of iterations needed to get\n",
    "# correct integration value with error upto eps order decimal places\n",
    "\n",
    "def correctIterations_integration(f_mp, f_t, f_s, eps=10**-6):\n",
    "    # To calculate N from error calculation formula\n",
    "    M_N=((b-a)**3/24/eps*f_mp)**0.5\n",
    "    T_N=((b-a)**3/12/eps*f_t)**0.5\n",
    "    S_N=((b-a)**5/180/eps*f_s)**0.25\n",
    "\n",
    "    # Using integral value, also handling the case where eps=0\n",
    "    if M_N==0:\n",
    "        M_N=1\n",
    "    else:\n",
    "        M_N=int(M_N)\n",
    "\n",
    "    if T_N==0:\n",
    "        T_N=1\n",
    "    else:\n",
    "        T_N=int(T_N)\n",
    "    \n",
    "    if S_N==0:\n",
    "        S_N=1\n",
    "    else:\n",
    "        S_N=int(S_N)\n",
    "  \n",
    "    # changing S_N value to S_N + 1 for odd values of S_N \n",
    "    if S_N%2!=0:\n",
    "        S_N+=1\n",
    "\n",
    "    return M_N, T_N, S_N\n",
    "\n",
    "\n",
    "\n",
    "# Midpoint method\n",
    "def integral_midpoint(f, x1, x2, n):\n",
    "    s=0\n",
    "    h=(x2-x1)/n # step size\n",
    "    \n",
    "    \n",
    "    for i in range(1,n+1):\n",
    "        x=x1+(2*i-1)*h/2\n",
    "        s+=f(x)\n",
    "    \n",
    "    return s*h\n",
    "\n",
    "\n",
    "\n",
    "# Trapezoidal method\n",
    "def integral_trapezoidal(f, x1, x2, n):\n",
    "    s=0\n",
    "    h=(x2-x1)/n \n",
    "    \n",
    "    \n",
    "    for i in range(1,n+1):\n",
    "        s+=f(x1+i*h)+f(x1+(i-1)*h)\n",
    "    \n",
    "    return s*h/2\n",
    "\n",
    "\n",
    "\n",
    "# Simpson method\n",
    "def integral_simpson(f, x1, x2, n):\n",
    "    s=f(x1)+f(x2)\n",
    "    h=(x2-x1)/n\n",
    "    \n",
    "    \n",
    "    for i in range(1,n):\n",
    "        if i%2!=0:\n",
    "            s+=4*f(x1+i*h)\n",
    "        else:\n",
    "            s+=2*f(x1+i*h)\n",
    "    \n",
    "    return s*h/3\n",
    "\n"
   ]
  },
  {
   "cell_type": "code",
   "execution_count": 71,
   "id": "6d7d4a4f",
   "metadata": {},
   "outputs": [
    {
     "name": "stdout",
     "output_type": "stream",
     "text": [
      "No. of iterations    midpoint                  trapezoidal               Simpson                  \n",
      "\n",
      "8                    3.6183138593298727        3.623956949398562         3.6203301434402904       \n",
      "16                   3.619709761707181         3.6211354043642174        3.6201948893527693       \n",
      "24                   3.619972785533525         3.620607687124767         3.620186449815972        \n",
      "\n",
      "Actual value         3.6201841052416963        3.6201844561676655        3.620184367459324        \n"
     ]
    }
   ],
   "source": [
    "def f1(x):\n",
    "    return math.sqrt(1+1/x)\n",
    "\n",
    "def f2(x):\n",
    "    return x**4\n",
    "\n",
    "eps=10**-6\n",
    "x1=1\n",
    "x2=4\n",
    "\n",
    "MP=[]\n",
    "TR=[]\n",
    "SMP=[]\n",
    "\n",
    "N1=8\n",
    "\n",
    "MP.append(integral_midpoint(f1, x1, x2, N1))\n",
    "TR.append(integral_trapezoidal(f1, x1, x2, N1))\n",
    "SMP.append(integral_simpson(f1, x1, x2, N1))\n",
    "\n",
    "N2=16\n",
    "\n",
    "MP.append(integral_midpoint(f1, x1, x2, N2))\n",
    "TR.append(integral_trapezoidal(f1, x1, x2, N2))\n",
    "SMP.append(integral_simpson(f1, x1, x2, N2))\n",
    "\n",
    "N3=24\n",
    "\n",
    "MP.append(integral_midpoint(f1, x1, x2, N3))\n",
    "TR.append(integral_trapezoidal(f1, x1, x2, N3))\n",
    "SMP.append(integral_simpson(f1, x1, x2, N3))\n",
    "\n",
    "\n",
    "\n",
    "\n",
    "# feeding maximum of second derivative of function for Mid-point and Trapezoidal\n",
    "f_mp=0.619 \n",
    "f_t=0.619 \n",
    "# feeding maximum of fourth derivative of function for Simpson\n",
    "f_s=6.016 \n",
    "\n",
    "M_N, T_N, S_N = correctIterations_integration(f_mp, f_t, f_s)\n",
    "\n",
    "MP.append(integral_midpoint(f1, x1, x2, M_N))\n",
    "TR.append(integral_trapezoidal(f1, x1, x2, T_N))\n",
    "SMP.append(integral_simpson(f1, x1, x2, S_N))\n",
    "\n",
    "\n",
    "print (\"{:<20} {:<25} {:<25} {:<25}\".format('No. of iterations', 'midpoint', 'trapezoidal', 'Simpson'))\n",
    "print()\n",
    "print (\"{:<20} {:<25} {:<25} {:<25}\".format(N1, MP[0], TR[0], SMP[0]))\n",
    "print (\"{:<20} {:<25} {:<25} {:<25}\".format(N2, MP[1], TR[1], SMP[1]))\n",
    "print (\"{:<20} {:<25} {:<25} {:<25}\".format(N3, MP[2], TR[2], SMP[2]))\n",
    "print()\n",
    "print (\"{:<20} {:<25} {:<25} {:<25}\".format('Actual value', MP[3], TR[3], SMP[3]))\n"
   ]
  },
  {
   "cell_type": "code",
   "execution_count": 72,
   "id": "0ff92f77",
   "metadata": {},
   "outputs": [],
   "source": [
    "#Q2\n",
    "#Numerically integrate the following using midpoint,\n",
    "#trapezoidal and simpson techniques with maximum error of 0.001."
   ]
  },
  {
   "cell_type": "code",
   "execution_count": 73,
   "id": "26094f62",
   "metadata": {},
   "outputs": [
    {
     "name": "stdout",
     "output_type": "stream",
     "text": [
      "For midpoint, N = 106 and integral = 0.6437874361804016\n",
      "For trapezoidal, N = 150 and integral = 0.6437931268792875\n",
      "For simpson, N = 12 and integral = 0.64379042999369\n"
     ]
    }
   ],
   "source": [
    "def f2(x):\n",
    "    return x*math.sqrt(1+x)\n",
    "\n",
    "eps=10**-4\n",
    "x1=0\n",
    "x2=1\n",
    "\n",
    "# feeding the maximum of second derivative of function for midpoint and trapezoidal\n",
    "f_mp=1 \n",
    "f_t=1 \n",
    "# feeding the maximum of fourth derivative of function for simpson\n",
    "f_s=1.5 # for f2\n",
    "\n",
    "M_N, T_N, S_N = correctIterations_integration(f_mp, f_t, f_s, eps)\n",
    "\n",
    "MP=(integral_midpoint(f2, x1, x2, M_N))\n",
    "TR=(integral_trapezoidal(f2, x1, x2, T_N))\n",
    "SM=(integral_simpson(f2, x1, x2, S_N))\n",
    "\n",
    "print(\"For midpoint, N = \" + str(M_N) + \" and integral = \" + str(MP))\n",
    "print(\"For trapezoidal, N = \" + str(T_N) + \" and integral = \" + str(TR))\n",
    "print(\"For simpson, N = \" + str(S_N) + \" and integral = \" + str(SM))\n"
   ]
  },
  {
   "cell_type": "code",
   "execution_count": 74,
   "id": "91124ca9",
   "metadata": {},
   "outputs": [],
   "source": [
    "\n",
    "\n",
    "\n",
    "\n",
    "import numpy as np\n",
    "def integral_montecarlo(f,x1,x2,n):\n",
    "    array = np.array(np.random.uniform(low = 0.0, high = 1.0 ,size = n))\n",
    "    array = x1 + (x2-x1)*array\n",
    "    F = 0\n",
    "    for i in range(n):\n",
    "        F += ((x2-x1)*f(array[i]))/n\n",
    "    avg_f2 = 0\n",
    "    f_avg2 = 0\n",
    "    for i in range(n):\n",
    "        avg_f2 =+ f(array[i])**2\n",
    "    for i in range(n):\n",
    "        f_avg2 =+ f(array[i])\n",
    "        \n",
    "    si = avg_f2/n - (f_avg2/n)**2\n",
    "        \n",
    "    return F,si\n",
    "    \n"
   ]
  },
  {
   "cell_type": "code",
   "execution_count": 75,
   "id": "1f00b427",
   "metadata": {},
   "outputs": [],
   "source": [
    "#Q3\n",
    "#Use Monte Carlo to estimate the value of π from the following integral of f3.\n",
    "#Use system built random number generator and sample N starting from 10 and keep increasing in multiple of 10.\n",
    "#Go as far as possible within a reasonable time. Plot π vs. N."
   ]
  },
  {
   "cell_type": "code",
   "execution_count": 76,
   "id": "cd2cd306",
   "metadata": {},
   "outputs": [
    {
     "name": "stdout",
     "output_type": "stream",
     "text": [
      "The integral value in the last iteration is 3.148688665970765\n"
     ]
    },
    {
     "data": {
      "image/png": "[encoded data removed]",
      "text/plain": [
       "<Figure size 720x360 with 1 Axes>"
      ]
     },
     "metadata": {
      "needs_background": "light"
     },
     "output_type": "display_data"
    }
   ],
   "source": [
    "import math\n",
    "import matplotlib.pyplot as plt\n",
    "\n",
    "def f3(x):\n",
    "    return 4/(1+x**2)\n",
    "\n",
    "plt.figure(figsize=(10,5))\n",
    "\n",
    "pi = []\n",
    "N = []\n",
    "n = 500\n",
    "\n",
    "for i in range(n):\n",
    "    x = 10*i + 10\n",
    "    y = integral_montecarlo(f3,0,1,x)\n",
    "    N.append(x)\n",
    "    pi.append(y[0])\n",
    "    \n",
    "plt.plot(N,pi,\"r.\")\n",
    "\n",
    "print(\"The integral value in the last iteration is \" + str(pi[-1]))\n",
    "\n",
    "\n",
    "\n"
   ]
  },
  {
   "cell_type": "code",
   "execution_count": 77,
   "id": "1256f4f7",
   "metadata": {},
   "outputs": [],
   "source": [
    "#Q4\n",
    "#A beam 2 meter long has linear mass density λ(x) = x2, where x is measured from one of the ends\n",
    "#Find the center of mass of the beam numerically."
   ]
  },
  {
   "cell_type": "code",
   "execution_count": 78,
   "id": "b5197b33",
   "metadata": {},
   "outputs": [
    {
     "name": "stdout",
     "output_type": "stream",
     "text": [
      "Given, linear mass density is λ(x) = x^2\n",
      "Centre of mass of a given mass distribution λ(x) = integral{xλ(x) dx}/inegral{x dx}\n",
      "linear mass density = x^2\n",
      "\n",
      "The centre of mass calculated using midpoint method = 1.5000001111040284\n"
     ]
    }
   ],
   "source": [
    "print(\"Given, linear mass density is \\u03BB(x) = x^2\")\n",
    "\n",
    "print(\"Centre of mass of a given mass distribution \\u03BB(x) = integral{x\\u03BB(x) dx}/inegral{x dx}\")\n",
    "\n",
    "def f4(x):\n",
    "    return x**2\n",
    "def f5(x):\n",
    "    return x**3\n",
    "\n",
    "eps=10**-6\n",
    "x1=0\n",
    "x2=2\n",
    "\n",
    "#for f4\n",
    "# feeding here maximum of second derivative of function for midpoint and trapezoidal\n",
    "f_mp1=2    \n",
    "\n",
    "M_N1, T_N1, S_N1 = correctIterations_integration(f_mp1, f_t, f_s, eps)\n",
    "MP1=(integral_midpoint(f4, x1, x2, M_N1))\n",
    "#for f5\n",
    "# feeding here maximum of second derivative of function for midpoint and trapezoidal\n",
    "f_mp2=12 \n",
    "\n",
    "M_N2, T_N2, S_N2 = correctIterations_integration(f_mp2, f_t, f_s, eps)\n",
    "MP2=(integral_midpoint(f5, x1, x2, M_N2))\n",
    "\n",
    "print(\"linear mass density = x^2\")\n",
    "print(\"\\nThe centre of mass calculated using midpoint method = \" + str(MP2/MP1))\n"
   ]
  },
  {
   "cell_type": "code",
   "execution_count": null,
   "id": "c2f407f1",
   "metadata": {},
   "outputs": [],
   "source": []
  }
 ],
 "metadata": {
  "kernelspec": {
   "display_name": "Python 3",
   "language": "python",
   "name": "python3"
  },
  "language_info": {
   "codemirror_mode": {
    "name": "ipython",
    "version": 3
   },
   "file_extension": ".py",
   "mimetype": "text/x-python",
   "name": "python",
   "nbconvert_exporter": "python",
   "pygments_lexer": "ipython3",
   "version": "3.8.8"
  }
 },
 "nbformat": 4,
 "nbformat_minor": 5
}
